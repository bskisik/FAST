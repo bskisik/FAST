{
 "cells": [
  {
   "cell_type": "code",
   "execution_count": 1,
   "id": "568f9a78",
   "metadata": {},
   "outputs": [],
   "source": [
    "from obspy import UTCDateTime\n",
    "from obspy import Stream\n",
    "from obspy import read\n",
    "from obspy.clients.fdsn import Client\n",
    "import os\n",
    "import json"
   ]
  },
  {
   "cell_type": "code",
   "execution_count": 2,
   "id": "13391847",
   "metadata": {},
   "outputs": [],
   "source": [
    "t = UTCDateTime(2021, 6, 5, 10, 55, 58) # largest event time\n",
    "\n",
    "start_time = UTCDateTime(\"2021-06-05 00:00:00\")\n",
    "end_time = UTCDateTime(\"2021-06-06 00:00:00\")\n",
    "lon = -115.635\n",
    "lat = 33.140\n",
    "depth = 5.8\n",
    "\n",
    "# chan_priority_list=[\"HH[ZNE12]\", \"BH[ZNE12]\", \"EH[ZNE12]\", \"HN[ZNE12]\"]\n",
    "chan_priority_list=[\"HHZ\", \"HHN\", \"HHE\", \"HH1\", \"HH2\",\n",
    "                    \"BHZ\", \"BHN\", \"BHE\", \"BH1\", \"BH2\",\n",
    "                    \"EHZ\", \"EHN\", \"EHE\", \"EH1\", \"EH2\",\n",
    "                    \"HNZ\", \"HNN\", \"HNE\", \"HN1\", \"HN2\"]\n",
    "\n",
    "client1 = Client(\"IRIS\")\n",
    "client2 = Client(\"SCEDC\")\n",
    "\n",
    "IRIS_inventory = client1.get_stations(\n",
    "    starttime=start_time, endtime=end_time,\n",
    "    longitude=lon, latitude=lat, maxradius=0.5)\n",
    "\n",
    "SCEDC_inventory = client2.get_stations(\n",
    "    starttime=start_time, endtime=end_time,\n",
    "    longitude=lon, latitude=lat, maxradius=0.5)\n",
    "\n"
   ]
  },
  {
   "cell_type": "code",
   "execution_count": 3,
   "id": "0213f269",
   "metadata": {},
   "outputs": [
    {
     "name": "stdout",
     "output_type": "stream",
     "text": [
      "Inventory created at 2022-09-22T00:22:25.680600Z\n",
      "\tCreated by: IRIS WEB SERVICE: fdsnws-station | version: 1.1.50\n",
      "\t\t    http://service.iris.edu/fdsnws/station/1/query?starttime=2021-06-05...\n",
      "\tSending institution: IRIS-DMC (IRIS-DMC)\n",
      "\tContains:\n",
      "\t\tNetworks (9):\n",
      "\t\t\tAZ, BC, CI, EN, NP, PB, SB, SY, ZY\n",
      "\t\tStations (96):\n",
      "\t\t\tAZ.TONN (Tonner Ranch, Anza, CA, USA)\n",
      "\t\t\tAZ.USGCB (US Gypsum Company, site B (borehole), CA, USA)\n",
      "\t\t\tBC.CEA0 (Planta de bombeo La Rosita)\n",
      "\t\t\tBC.ICBC (Instituto Cultural de Baja California)\n",
      "\t\t\tCI.BOM (Bombay Beach)\n",
      "\t\t\tCI.CLI2 (Calipatria 2)\n",
      "\t\t\tCI.COK2 (Cook Ranch 2)\n",
      "\t\t\tCI.CRR (Carrizo)\n",
      "\t\t\tCI.DRE (Desert Research Extended Center)\n",
      "\t\t\tCI.ERR (Elmore's Ranch)\n",
      "\t\t\tCI.FRK (Frink)\n",
      "\t\t\tCI.IMP (Imperial)\n",
      "\t\t\tCI.NSS2 (North Shore Salton Sea 2)\n",
      "\t\t\tCI.Q0027 (1001 West Kramer Road)\n",
      "\t\t\tCI.Q0082 (Netquake Q0082)\n",
      "\t\t\tCI.RXH (Rock Hill)\n",
      "\t\t\tCI.SAL (Salton City)\n",
      "\t\t\tCI.SGL (Signal Mtn)\n",
      "\t\t\tCI.SLB (Salton Beach)\n",
      "\t\t\tCI.SLV (Salvation Pass)\n",
      "\t\t\tCI.SNR (Schaffner Ranch)\n",
      "\t\t\tCI.SWS (Sam W. Stewart)\n",
      "\t\t\tCI.WI2 (Wister, Niland, CA, USA)\n",
      "\t\t\tCI.WMD (Westmorland)\n",
      "\t\t\tCI.WWF (Wister Waterfowl)\n",
      "\t\t\tEN.ELM (Elmore, , , )\n",
      "\t\t\tEN.ENG (English, , , )\n",
      "\t\t\tEN.HAT (Hatfield, , , )\n",
      "\t\t\tEN.LIN (Lindsey, , , )\n",
      "\t\t\tEN.OBS (Obsidian Butte, , , )\n",
      "\t\t\tEN.RED (Red Hill Marina, , , )\n",
      "\t\t\tEN.SIM (Simpson, , , )\n",
      "\t\t\tEN.YOU (Young, Calipatria, CA, USA)\n",
      "\t\t\tNP.117 (CA:El Centro;ECA9 Irr Dist SS)\n",
      "\t\t\tNP.286 (CA:Imp Vly;Superstition Mtn Pk)\n",
      "\t\t\tNP.412 (CA:El Centro;ECA10 Reg Hosp)\n",
      "\t\t\tNP.464 (CA:El Centro;Meadows Union Sch)\n",
      "\t\t\tNP.5028 (CA:Imperial;ECA7;Imp Vly Coll)\n",
      "\t\t\tNP.5051 (CA:Imp Vly;Parachute Test Site)\n",
      "\t\t\tNP.5053 (CA:Calexico;FS)\n",
      "\t\t\tNP.5055 (CA:Holtville;PO)\n",
      "\t\t\tNP.5056 (CA:Brawley;ECA1  Borchard Rnch)\n",
      "\t\t\tNP.5057 (CA:Holtville;ECA3 Pine Union S)\n",
      "\t\t\tNP.5058 (CA:El Centro;ECA11 McCabe Sch)\n",
      "\t\t\tNP.5060 (CA:Brawley;Arpt Hangar)\n",
      "\t\t\tNP.5061 (CA:Calipatria;FS)\n",
      "\t\t\tNP.5158 (CA:Imperial;ECA6 Huston Rd)\n",
      "\t\t\tNP.5165 (CA:El Centro;Differential Arr)\n",
      "\t\t\tNP.5210 (Imperial Wildlife)\n",
      "\t\t\tNP.5274 (CA:Imp Vly;Superstition Mtn Bs)\n",
      "\t\t\tNP.5375 (CA:Ocotillo Wells;Veh Rec Area)\n",
      "\t\t\tNP.5413 (CA:Imperial;Imp Co Landfill)\n",
      "\t\t\tNP.5490 (CA:Calexico;TB Hay Farm)\n",
      "\t\t\tNP.931 (CA:El Centro; ECA 12)\n",
      "\t\t\tNP.952 (CA:El Centro;ECA5 James Rd)\n",
      "\t\t\tNP.955 (CA:El Centro;ECA4 Anderson Rd)\n",
      "\t\t\tNP.SAAR (Shape Acceleration Array)\n",
      "\t\t\tPB.DHL1 (Durmid Hill1, CA, USA)\n",
      "\t\t\tPB.GLRS (GLRS_SCGN_CS1999, CA)\n",
      "\t\t\tPB.P494 (WestsideESCS2005, CA)\n",
      "\t\t\tPB.P505 (ImperialSpCS2006 , CA)\n",
      "\t\t\tPB.P506 (Ramer_LakeCS2005, CA)\n",
      "\t\t\tPB.SLMS (SLMS_SCGN_CS1999, CA)\n",
      "\t\t\tPB.USGC (USGC_SCGN_CS1998, CA)\n",
      "\t\t\tSB.WLA (Wildlife Liquefaction Array)\n",
      "\t\t\tSB.WLA01 (Wildlife Liquefaction Array)\n",
      "\t\t\tSB.WLA02 (Wildlife Liquefaction Array)\n",
      "\t\t\tSB.WLA03 (Wildlife Liquefaction Array)\n",
      "\t\t\tSB.WLA04 (Wildlife Liquefaction Array)\n",
      "\t\t\tSB.WLA05 (Wildlife Liquefaction Array)\n",
      "\t\t\tSB.WLA06 (Wildlife Liquefaction Array)\n",
      "\t\t\tSB.WLA09 (Wildlife Liquefaction Array)\n",
      "\t\t\tSB.WLA10 (Wildlife Liquefaction Array)\n",
      "\t\t\tSY.BOM (BOM synthetic)\n",
      "\t\t\tSY.BTC (BTC synthetic)\n",
      "\t\t\tSY.CRR (CRR synthetic)\n",
      "\t\t\tSY.DRC (DRC synthetic)\n",
      "\t\t\tSY.DRE (DRE synthetic)\n",
      "\t\t\tSY.ERR (ERR synthetic)\n",
      "\t\t\tSY.FRK (FRK synthetic)\n",
      "\t\t\tSY.IMP (IMP synthetic)\n",
      "\t\t\tSY.NSS (NSS synthetic)\n",
      "\t\t\tSY.NSS2 (NSS2 synthetic)\n",
      "\t\t\tSY.PLR (PLR synthetic)\n",
      "\t\t\tSY.RXH (RXH synthetic)\n",
      "\t\t\tSY.SAL (SAL synthetic)\n",
      "\t\t\tSY.SGL (SGL synthetic)\n",
      "\t\t\tSY.SLB (SLB synthetic)\n",
      "\t\t\tSY.SMTC (SMTC synthetic)\n",
      "\t\t\tSY.SNR (SNR synthetic)\n",
      "\t\t\tSY.SSW (SSW synthetic)\n",
      "\t\t\tSY.SWS (SWS synthetic)\n",
      "\t\t\tSY.WES (WES synthetic)\n",
      "\t\t\tSY.WMD (WMD synthetic)\n",
      "\t\t\tSY.WWF (WWF synthetic)\n",
      "\t\t\tZY.COON (Bruce Coon Residence)\n",
      "\t\tChannels (0):\n",
      "\n",
      "Inventory created at 2022-09-22T00:22:29.000000Z\n",
      "\tCreated by: SCEDC WEB SERVICE: fdsnws-station | version: 1.1\n",
      "\t\t    http://service.scedc.caltech.edu/fdsnws/station/1/query?start=2021-...\n",
      "\tSending institution: SCEDC (SCEDC)\n",
      "\tContains:\n",
      "\t\tNetworks (8):\n",
      "\t\t\tAZ, BC, CE, CI, EN, NP, PB, SB\n",
      "\t\tStations (77):\n",
      "\t\t\tAZ.TONN (Tonner Ranch, Anza, CA, USA)\n",
      "\t\t\tBC.CEA0 (Planta de bombeo La Rosita)\n",
      "\t\t\tCE.01711 (El Centro - Imperial & Ross)\n",
      "\t\t\tCE.01794 (El Centro - Meloland Geotechnical Array)\n",
      "\t\t\tCE.11023 (Niland - Fire Station)\n",
      "\t\t\tCE.11217 (North Shore - Hwy 111 & Parkside Dr)\n",
      "\t\t\tCE.11369 (Westmorland - Fire Station)\n",
      "\t\t\tCE.11591 (North Shore - Durmid)\n",
      "\t\t\tCE.11627 (Bombay Beach - Bertram)\n",
      "\t\t\tCE.11628 (Salton City)\n",
      "\t\t\tCE.11684 (Frink)\n",
      "\t\t\tCE.12626 (Desert Shores)\n",
      "\t\t\tCI.BOM (Bombay Beach)\n",
      "\t\t\tCI.CLI2 (Calipatria 2)\n",
      "\t\t\tCI.COK2 (Cook Ranch 2)\n",
      "\t\t\tCI.CRR (Carrizo)\n",
      "\t\t\tCI.DRE (Desert Research Extended Center)\n",
      "\t\t\tCI.ERR (Elmore's Ranch)\n",
      "\t\t\tCI.FRK (Frink)\n",
      "\t\t\tCI.IMP (Imperial)\n",
      "\t\t\tCI.IRG5 (Time Code)\n",
      "\t\t\tCI.NSS2 (North Shore Salton Sea 2)\n",
      "\t\t\tCI.Q0027 (1001 West Kramer Road)\n",
      "\t\t\tCI.Q0082 (Netquake Q0082)\n",
      "\t\t\tCI.RXH (Rock Hill)\n",
      "\t\t\tCI.SAL (Salton City)\n",
      "\t\t\tCI.SGL (Signal Mtn)\n",
      "\t\t\tCI.SLB (Salton Beach)\n",
      "\t\t\tCI.SLV (Salvation Pass)\n",
      "\t\t\tCI.SNR (Schaffner Ranch)\n",
      "\t\t\tCI.SWS (Sam W. Stewart)\n",
      "\t\t\tCI.WMD (Westmorland)\n",
      "\t\t\tCI.WWF (Wister Waterfowl)\n",
      "\t\t\tEN.ELM (Elmore, , , )\n",
      "\t\t\tEN.ENG (English, , , )\n",
      "\t\t\tEN.HAT (Hatfield, , , )\n",
      "\t\t\tEN.LIN (Lindsey, , , )\n",
      "\t\t\tEN.OBS (Obsidian Butte, , , )\n",
      "\t\t\tEN.RED (Red Hill Marina, , , )\n",
      "\t\t\tEN.SIM (Simpson, , , )\n",
      "\t\t\tEN.YOU (Young, Calipatria, CA, USA)\n",
      "\t\t\tNP.117 (CA:El Centro;ECA9 Irr Dist SS)\n",
      "\t\t\tNP.286 (Imperial Valley, Superstition Mtn Peak)\n",
      "\t\t\tNP.412 (CA:El Centro;ECA10 Reg Hosp)\n",
      "\t\t\tNP.464 (CA:El Centro;Meadows Union Sch)\n",
      "\t\t\tNP.5028 (CA:Imperial;ECA7;Imp Vly Coll)\n",
      "\t\t\tNP.5051 (CA:Imp Vly;Parachute Test Site)\n",
      "\t\t\tNP.5053 (CA:Calexico;FS)\n",
      "\t\t\tNP.5055 (CA:Holtville;PO)\n",
      "\t\t\tNP.5056 (CA:Brawley;ECA1  Borchard Rnch)\n",
      "\t\t\tNP.5057 (CA:Holtville;ECA3 Pine Union S)\n",
      "\t\t\tNP.5058 (CA:El Centro;ECA11 McCabe Sch)\n",
      "\t\t\tNP.5060 (CA:Brawley;Arpt Hangar)\n",
      "\t\t\tNP.5061 (CA:Calipatria;FS)\n",
      "\t\t\tNP.5062 (Salton Sea Wildlife (SSW))\n",
      "\t\t\tNP.5158 (CA:Imperial;ECA6 Huston Rd)\n",
      "\t\t\tNP.5165 (CA:El Centro;Differential Arr)\n",
      "\t\t\tNP.5271 (5271, Bombay Beach, CA (BBB))\n",
      "\t\t\tNP.5274 (CA:Imp Vly;Superstition Mtn Bs)\n",
      "\t\t\tNP.5375 (CA:Ocotillo Wells;Veh Rec Area)\n",
      "\t\t\tNP.5413 (CA:Imperial;Imp Co Landfill)\n",
      "\t\t\tNP.5490 (CA:Calexico;TB Hay Farm)\n",
      "\t\t\tNP.931 (CA:El Centro; ECA 12)\n",
      "\t\t\tNP.952 (CA:El Centro;ECA5 James Rd)\n",
      "\t\t\tNP.955 (CA:El Centro;ECA4 Anderson Rd)\n",
      "\t\t\tPB.DHL2 (durmidhillcs2005, CA, USA)\n",
      "\t\t\tPB.SCS1 (saltncity1cs2006, Salton Sea, CA, USA)\n",
      "\t\t\tPB.SCS2 (saltncity2cs2006, Salton Sea, CA, USA)\n",
      "\t\t\tSB.WLA (Wildlife Liquefaction Array)\n",
      "\t\t\tSB.WLA01 (Wildlife Liquefaction Array)\n",
      "\t\t\tSB.WLA02 (Wildlife Liquefaction Array)\n",
      "\t\t\tSB.WLA03 (Wildlife Liquefaction Array)\n",
      "\t\t\tSB.WLA04 (Wildlife Liquefaction Array)\n",
      "\t\t\tSB.WLA05 (Wildlife Liquefaction Array)\n",
      "\t\t\tSB.WLA06 (Wildlife Liquefaction Array)\n",
      "\t\t\tSB.WLA09 (Wildlife Liquefaction Array)\n",
      "\t\t\tSB.WLA10 (Wildlife Liquefaction Array)\n",
      "\t\tChannels (0):\n",
      "\n"
     ]
    }
   ],
   "source": [
    "print(IRIS_inventory)\n",
    "print(SCEDC_inventory)"
   ]
  },
  {
   "cell_type": "code",
   "execution_count": null,
   "id": "e90fe10e",
   "metadata": {},
   "outputs": [],
   "source": [
    "for ev in IRIS_inventory:\n",
    "    print(ev.code)\n",
    "    for st in ev:\n",
    "        print(st.channels)\n",
    "        print(st.code)\n",
    "        print(st.latitude)"
   ]
  },
  {
   "cell_type": "code",
   "execution_count": 4,
   "id": "d0896b38",
   "metadata": {},
   "outputs": [],
   "source": [
    "IRIS_contents = IRIS_inventory.get_contents()\n",
    "SCEDC_contents = SCEDC_inventory.get_contents()"
   ]
  },
  {
   "cell_type": "code",
   "execution_count": null,
   "id": "9c122056",
   "metadata": {},
   "outputs": [],
   "source": [
    "print(IRIS_contents[\"networks\"])\n",
    "print(len(IRIS_contents[\"stations\"]))"
   ]
  },
  {
   "cell_type": "code",
   "execution_count": 5,
   "id": "f631e773",
   "metadata": {},
   "outputs": [],
   "source": [
    "IRIS_waveforms = []\n",
    "SCEDC_waveforms = []"
   ]
  },
  {
   "cell_type": "code",
   "execution_count": null,
   "id": "17e260c9",
   "metadata": {},
   "outputs": [],
   "source": [
    "l = IRIS_contents['stations'][0].split()\n",
    "print(l)\n",
    "net = l[0].split('.')[0]\n",
    "sta = l[0].split('.')[1]"
   ]
  },
  {
   "cell_type": "code",
   "execution_count": null,
   "id": "c2de83b8",
   "metadata": {},
   "outputs": [],
   "source": [
    "st = client1.get_waveforms(net, sta, \"*\", \"*\", start_time, end_time)\n",
    "st.plot()"
   ]
  },
  {
   "cell_type": "code",
   "execution_count": null,
   "id": "3a945738",
   "metadata": {
    "scrolled": true
   },
   "outputs": [],
   "source": [
    "start_time_file = (f\"{start_time.year}{str(start_time.month).zfill(2)}{str(start_time.day).zfill(2)}T{str(start_time.hour).zfill(2)}{str(start_time.minute).zfill(2)}{str(start_time.second).zfill(2)}Z\")\n",
    "end_time_file = (f\"{end_time.year}{str(end_time.month).zfill(2)}{str(end_time.day).zfill(2)}T{str(end_time.hour).zfill(2)}{str(end_time.minute).zfill(2)}{str(end_time.second).zfill(2)}Z\")\n",
    "for s in st:\n",
    "#     print(s.stats.station, s.stats.channel)\n",
    "    if s.stats.channel in chan_priority_list:\n",
    "        s.write(f\"waveforms/{s.stats.network}.{s.stats.station}.{s.stats.channel}__{start_time_file}__{end_time_file}.mseed\", format=\"MSEED\")\n",
    "#     else:\n",
    "#         st.remove(s)   \n",
    "#         print(st)\n",
    "# st[0].stats.channel"
   ]
  },
  {
   "cell_type": "code",
   "execution_count": null,
   "id": "e7b2d9a2",
   "metadata": {},
   "outputs": [],
   "source": [
    "l = IRIS_contents['stations'][1].split()\n",
    "print(l)\n",
    "net = l[0].split('.')[0]\n",
    "sta = l[0].split('.')[1]\n",
    "\n",
    "st = client1.get_waveforms(net, sta, \"*\", \"*\", start_time, end_time)\n",
    "st.plot()"
   ]
  },
  {
   "cell_type": "code",
   "execution_count": null,
   "id": "999c8fd9",
   "metadata": {},
   "outputs": [],
   "source": [
    "for i in range(len(IRIS_waveforms)):\n",
    "    print(IRIS_waveforms[i])"
   ]
  },
  {
   "cell_type": "code",
   "execution_count": 6,
   "id": "b7f775ba",
   "metadata": {},
   "outputs": [],
   "source": [
    "start_time_file = (f\"{start_time.year}{str(start_time.month).zfill(2)}{str(start_time.day).zfill(2)}T{str(start_time.hour).zfill(2)}{str(start_time.minute).zfill(2)}{str(start_time.second).zfill(2)}Z\")\n",
    "end_time_file = (f\"{end_time.year}{str(end_time.month).zfill(2)}{str(end_time.day).zfill(2)}T{str(end_time.hour).zfill(2)}{str(end_time.minute).zfill(2)}{str(end_time.second).zfill(2)}Z\")"
   ]
  },
  {
   "cell_type": "code",
   "execution_count": null,
   "id": "55f1beb9",
   "metadata": {
    "scrolled": true
   },
   "outputs": [],
   "source": [
    "for i in IRIS_contents[\"stations\"]:\n",
    "    print(i)"
   ]
  },
  {
   "cell_type": "code",
   "execution_count": 7,
   "id": "ed54c117",
   "metadata": {},
   "outputs": [],
   "source": [
    "out_station_json_file='station_list.json'\n",
    "\n",
    "station_list = {}\n",
    "\n",
    "for ev in IRIS_inventory:\n",
    "    for st in ev:\n",
    "        station_list[st.code] = {\"latitude\": st.latitude, \"longitude\": st.longitude}\n",
    "        \n",
    "with open(out_station_json_file, 'w') as fp:\n",
    "    json.dump(station_list, fp)"
   ]
  },
  {
   "cell_type": "code",
   "execution_count": 10,
   "id": "677c7ee2",
   "metadata": {
    "scrolled": true
   },
   "outputs": [
    {
     "name": "stdout",
     "output_type": "stream",
     "text": [
      "No data available for BC.CEA0\n",
      "No data available for BC.ICBC\n",
      "No data available for CI.BOM\n",
      "No data available for CI.CLI2\n",
      "No data available for CI.COK2\n",
      "No data available for CI.CRR\n",
      "No data available for CI.DRE\n",
      "No data available for CI.ERR\n",
      "No data available for CI.FRK\n",
      "No data available for CI.IMP\n",
      "No data available for CI.NSS2\n",
      "No data available for CI.Q0027\n",
      "No data available for CI.Q0082\n",
      "No data available for CI.RXH\n",
      "No data available for CI.SAL\n",
      "No data available for CI.SGL\n",
      "No data available for CI.SLB\n",
      "No data available for CI.SLV\n",
      "No data available for CI.SNR\n",
      "No data available for CI.WI2\n",
      "No data available for CI.WMD\n",
      "No data available for CI.WWF\n",
      "No data available for EN.ELM\n",
      "No data available for EN.ENG\n",
      "No data available for EN.HAT\n",
      "No data available for EN.LIN\n",
      "No data available for EN.OBS\n",
      "No data available for EN.RED\n",
      "No data available for EN.SIM\n",
      "No data available for EN.YOU\n",
      "No data available for NP.117\n",
      "No data available for NP.412\n",
      "No data available for NP.464\n",
      "No data available for NP.5028\n",
      "No data available for NP.5051\n",
      "No data available for NP.5053\n",
      "No data available for NP.5055\n",
      "No data available for NP.5056\n",
      "No data available for NP.5057\n",
      "No data available for NP.5058\n",
      "No data available for NP.5060\n",
      "No data available for NP.5061\n",
      "No data available for NP.5158\n",
      "No data available for NP.5165\n",
      "No data available for NP.5210\n",
      "No data available for NP.5375\n",
      "No data available for NP.5413\n",
      "No data available for NP.5490\n",
      "No data available for NP.931\n",
      "No data available for NP.952\n",
      "No data available for NP.955\n",
      "No data available for NP.SAAR\n",
      "No data available for PB.DHL1\n",
      "No data available for PB.SLMS\n",
      "No data available for SB.WLA09\n",
      "No data available for SY.DRC\n",
      "No data available for SY.PLR\n",
      "No data available for SY.SMTC\n",
      "No data available for ZY.COON\n"
     ]
    }
   ],
   "source": [
    "os.mkdir(\"waveforms_IRIS\")\n",
    "\n",
    "st_list = []\n",
    "for i in IRIS_contents[\"stations\"]:\n",
    "    curr = i.split()\n",
    "    \n",
    "    network = curr[0].split('.')[0]\n",
    "    station = curr[0].split('.')[1]\n",
    "    try:\n",
    "        wave_form = client1.get_waveforms(network, station, \"*\", \"*\", start_time, end_time)\n",
    "\n",
    "    except:\n",
    "        print(f\"No data available for {network}.{station}\")\n",
    "        \n",
    "    for s in wave_form:\n",
    "\n",
    "        if s.stats.channel in chan_priority_list:\n",
    "            s.write(f\"waveforms_IRIS/{s.stats.network}.{s.stats.station}.{s.stats.channel}__{start_time_file}__{end_time_file}.mseed\", format=\"MSEED\")\n",
    "            \n",
    "            if s.stats.station not in st_list:\n",
    "                st_list.append(s.stats.station)\n"
   ]
  },
  {
   "cell_type": "code",
   "execution_count": 11,
   "id": "2382b48b",
   "metadata": {
    "scrolled": true
   },
   "outputs": [
    {
     "name": "stdout",
     "output_type": "stream",
     "text": [
      "54\n"
     ]
    }
   ],
   "source": [
    "waveform_IRIS_files = os.listdir(\"waveforms_IRIS\")\n",
    "print(len(waveform_IRIS_files))"
   ]
  },
  {
   "cell_type": "code",
   "execution_count": 12,
   "id": "8f42f2eb",
   "metadata": {},
   "outputs": [],
   "source": [
    "net_list = []\n",
    "sta_list = []"
   ]
  },
  {
   "cell_type": "code",
   "execution_count": 13,
   "id": "086ef2c7",
   "metadata": {},
   "outputs": [
    {
     "data": {
      "image/png": "[encoded data removed]",
      "text/plain": [
       "<Figure size 800x250 with 1 Axes>"
      ]
     },
     "metadata": {
      "needs_background": "light"
     },
     "output_type": "display_data"
    }
   ],
   "source": [
    "for i in waveform_IRIS_files:\n",
    "    if i != '.DS_Store':\n",
    "        wf = read(\"waveforms_IRIS/\" + i)\n",
    "        wf.plot()\n",
    "        break"
   ]
  },
  {
   "cell_type": "code",
   "execution_count": 14,
   "id": "5618ca5c",
   "metadata": {},
   "outputs": [],
   "source": [
    "os.mkdir(\"waveforms_SCEDC\")"
   ]
  },
  {
   "cell_type": "code",
   "execution_count": 15,
   "id": "e356b867",
   "metadata": {},
   "outputs": [],
   "source": [
    "out_station_json_file='station_list_SCEDC.json'\n",
    "\n",
    "station_list = {}\n",
    "\n",
    "for ev in SCEDC_inventory:\n",
    "    for st in ev:\n",
    "        station_list[st.code] = {\"latitude\": st.latitude, \"longitude\": st.longitude}\n",
    "        \n",
    "with open(out_station_json_file, 'w') as fp:\n",
    "    json.dump(station_list, fp)"
   ]
  },
  {
   "cell_type": "code",
   "execution_count": 16,
   "id": "ab373c53",
   "metadata": {},
   "outputs": [
    {
     "name": "stdout",
     "output_type": "stream",
     "text": [
      "No data available for AZ.TONN\n",
      "No data available for BC.CEA0\n",
      "No data available for CE.01711\n",
      "No data available for CE.01794\n",
      "No data available for CE.11023\n",
      "No data available for CE.11217\n",
      "No data available for CE.11369\n",
      "No data available for CE.11591\n",
      "No data available for CE.11627\n",
      "No data available for CE.11628\n",
      "No data available for CE.11684\n",
      "No data available for CE.12626\n",
      "No data available for CI.ERR\n",
      "No data available for CI.FRK\n",
      "No data available for CI.IMP\n",
      "No data available for CI.IRG5\n",
      "No data available for CI.NSS2\n",
      "No data available for CI.Q0027\n",
      "No data available for CI.Q0082\n",
      "No data available for CI.RXH\n",
      "No data available for CI.SAL\n",
      "No data available for CI.SGL\n",
      "No data available for CI.SLB\n",
      "No data available for CI.SLV\n",
      "No data available for CI.SNR\n",
      "No data available for CI.SWS\n",
      "No data available for CI.WMD\n",
      "No data available for CI.WWF\n",
      "No data available for EN.ELM\n",
      "No data available for EN.ENG\n",
      "No data available for EN.HAT\n",
      "No data available for EN.LIN\n",
      "No data available for EN.OBS\n",
      "No data available for EN.RED\n",
      "No data available for EN.SIM\n",
      "No data available for EN.YOU\n",
      "No data available for NP.117\n",
      "No data available for NP.412\n",
      "No data available for NP.464\n",
      "No data available for NP.5028\n",
      "No data available for NP.5051\n",
      "No data available for NP.5053\n",
      "No data available for NP.5055\n",
      "No data available for NP.5057\n",
      "No data available for NP.5060\n",
      "No data available for NP.5061\n",
      "No data available for NP.5158\n",
      "No data available for NP.5165\n",
      "No data available for NP.5274\n",
      "No data available for NP.5413\n",
      "No data available for NP.5490\n",
      "No data available for NP.931\n",
      "No data available for NP.952\n",
      "No data available for NP.955\n",
      "No data available for PB.DHL2\n",
      "No data available for PB.SCS1\n",
      "No data available for PB.SCS2\n",
      "No data available for SB.WLA01\n",
      "No data available for SB.WLA02\n",
      "No data available for SB.WLA03\n",
      "No data available for SB.WLA04\n",
      "No data available for SB.WLA05\n",
      "No data available for SB.WLA06\n",
      "No data available for SB.WLA09\n",
      "No data available for SB.WLA10\n"
     ]
    }
   ],
   "source": [
    "st_list = []\n",
    "# wave_form = ''\n",
    "\n",
    "for i in SCEDC_contents[\"stations\"]:\n",
    "    curr = i.split()\n",
    "\n",
    "    network = curr[0].split('.')[0]\n",
    "    station = curr[0].split('.')[1]\n",
    "    \n",
    "    try:\n",
    "        wave_form = client2.get_waveforms(network, station, \"*\", \"*\", start_time, end_time)\n",
    "\n",
    "    except:\n",
    "        print(f\"No data available for {network}.{station}\")\n",
    "\n",
    "\n",
    "    for s in wave_form:\n",
    "\n",
    "        if s.stats.channel in chan_priority_list:\n",
    "            s.write(f\"waveforms_SCEDC/{s.stats.network}.{s.stats.station}.{s.stats.channel}__{start_time_file}__{end_time_file}.mseed\", format=\"MSEED\")\n",
    "\n",
    "            if s.stats.station not in st_list:\n",
    "                st_list.append(s.stats.station)"
   ]
  },
  {
   "cell_type": "code",
   "execution_count": 17,
   "id": "1259dbb2",
   "metadata": {},
   "outputs": [
    {
     "data": {
      "image/png": "[encoded data removed]",
      "text/plain": [
       "<Figure size 800x250 with 1 Axes>"
      ]
     },
     "metadata": {
      "needs_background": "light"
     },
     "output_type": "display_data"
    }
   ],
   "source": [
    "waveform_SCEDC_files = os.listdir(\"waveforms_SCEDC\")\n",
    "\n",
    "for i in waveform_SCEDC_files:\n",
    "    if i != '.DS_Store':\n",
    "        wf = read(\"waveforms_SCEDC/\" + i)\n",
    "        wf.plot()\n",
    "        break"
   ]
  }
 ],
 "metadata": {
  "kernelspec": {
   "display_name": "Python 3 (ipykernel)",
   "language": "python",
   "name": "python3"
  },
  "language_info": {
   "codemirror_mode": {
    "name": "ipython",
    "version": 3
   },
   "file_extension": ".py",
   "mimetype": "text/x-python",
   "name": "python",
   "nbconvert_exporter": "python",
   "pygments_lexer": "ipython3",
   "version": "3.9.13"
  }
 },
 "nbformat": 4,
 "nbformat_minor": 5
}
